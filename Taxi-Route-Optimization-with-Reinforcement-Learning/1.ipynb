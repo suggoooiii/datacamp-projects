{
 "cells": [
  {
   "cell_type": "markdown",
   "metadata": {},
   "source": [
    "![Crowded city](images/city-1265055_1280.jpg)\n",
    "\n",
    "In the quest for efficiency and effectiveness in urban transportation, finding the optimal routes to take passengers from their initial locations to their desired destinations is paramount. This challenge is not just about reducing travel time; it's about enhancing the overall experience for both drivers and passengers, ensuring safety, and minimizing environmental impact. \n",
    "\n",
    "You have been asked to revolutionize the way taxis navigate the urban landscape, ensuring passengers reach their destinations swiftly, safely, and satisfactorily. As an initial step, your goal is to build a reinforcement learning agent that solves this problem within a simulated environment.\n",
    "\n",
    "## The Taxi-v3 environment\n",
    "The Taxi-v3 environment is a strategic simulation, offering a grid-based arena where a taxi navigates to address daily challenges akin to those faced by a taxi driver. This environment is defined by a 5x5 grid where the taxi's mission involves picking up a passenger from one of four specific locations (marked as Red, Green, Yellow, and Blue) and dropping them off at another designated spot. The goal is to accomplish this with minimal time on the road to maximize rewards, emphasizing the need for route optimization and efficient decision-making for passenger pickup and dropoff.\n",
    "\n",
    "### Key Components:\n",
    "- **Action Space:** Comprises six actions where 0 moves the taxi south, 1 north, 2 east, 3 west, 4 picks up a passenger, and 5 drops off a passenger.\n",
    "- **Observation Space:** Comprises 500 discrete states, accounting for 25 taxi positions, 5 potential passenger locations, and 4 destinations. \n",
    "- **Rewards System:** Includes a penalty of -1 for each step taken without other rewards, +20 for successful passenger delivery, and -10 for illegal pickup or dropoff actions. Actions resulting in no operation, like hitting a wall, also incur a time step penalty.\n",
    "\n",
    "![Taxi-v3 environment snapshot](images/Taxi_snap.png)\n"
   ]
  },
  {
   "cell_type": "code",
   "execution_count": 6,
   "metadata": {},
   "outputs": [
    {
     "name": "stdout",
     "output_type": "stream",
     "text": [
      "Requirement already satisfied: imageio in /usr/local/python/3.10.13/lib/python3.10/site-packages (2.34.2)\n",
      "Requirement already satisfied: gymnasium[toy_text] in /usr/local/python/3.10.13/lib/python3.10/site-packages (0.29.1)\n",
      "Requirement already satisfied: numpy>=1.21.0 in /home/codespace/.local/lib/python3.10/site-packages (from gymnasium[toy_text]) (2.0.0)\n",
      "Requirement already satisfied: cloudpickle>=1.2.0 in /usr/local/python/3.10.13/lib/python3.10/site-packages (from gymnasium[toy_text]) (3.0.0)\n",
      "Requirement already satisfied: typing-extensions>=4.3.0 in /home/codespace/.local/lib/python3.10/site-packages (from gymnasium[toy_text]) (4.12.2)\n",
      "Requirement already satisfied: farama-notifications>=0.0.1 in /usr/local/python/3.10.13/lib/python3.10/site-packages (from gymnasium[toy_text]) (0.0.4)\n",
      "Requirement already satisfied: pygame>=2.1.3 in /usr/local/python/3.10.13/lib/python3.10/site-packages (from gymnasium[toy_text]) (2.6.0)\n",
      "Requirement already satisfied: pillow>=8.3.2 in /home/codespace/.local/lib/python3.10/site-packages (from imageio) (10.4.0)\n",
      "\n",
      "\u001b[1m[\u001b[0m\u001b[34;49mnotice\u001b[0m\u001b[1;39;49m]\u001b[0m\u001b[39;49m A new release of pip is available: \u001b[0m\u001b[31;49m24.1.2\u001b[0m\u001b[39;49m -> \u001b[0m\u001b[32;49m24.2\u001b[0m\n",
      "\u001b[1m[\u001b[0m\u001b[34;49mnotice\u001b[0m\u001b[1;39;49m]\u001b[0m\u001b[39;49m To update, run: \u001b[0m\u001b[32;49mpython3 -m pip install --upgrade pip\u001b[0m\n"
     ]
    }
   ],
   "source": [
    "# Re-run this cell to install and import the necessary libraries and load the required variables\n",
    "!pip install gymnasium[toy_text] imageio\n"
   ]
  },
  {
   "cell_type": "code",
   "execution_count": 7,
   "metadata": {},
   "outputs": [],
   "source": [
    "\n",
    "import numpy as np\n",
    "import gymnasium as gym\n",
    "import imageio\n",
    "from IPython.display import Image\n",
    "from gymnasium.utils import seeding\n",
    "\n",
    "# Initialize the Taxi-v3 environment\n",
    "env = gym.make(\"Taxi-v3\", render_mode='rgb_array')\n",
    "\n",
    "# Seed the environment for reproducibility\n",
    "env.np_random, _ = seeding.np_random(42)\n",
    "env.action_space.seed(42)\n",
    "np.random.seed(42)\n",
    "\n",
    "# Maximum number of actions per training episode\n",
    "max_actions = 100 "
   ]
  },
  {
   "cell_type": "code",
   "execution_count": 8,
   "metadata": {},
   "outputs": [
    {
     "name": "stdout",
     "output_type": "stream",
     "text": [
      "Q-table shape: (500, 6)\n",
      "Training completed.\n",
      "Average reward over 100 episodes: -3.86\n"
     ]
    }
   ],
   "source": [
    "# Q-learning parameters\n",
    "alpha = 0.1  # Learning rate\n",
    "gamma = 0.6  # Discount factor\n",
    "epsilon = 0.1  # Exploration rate\n",
    "\n",
    "# Initialize Q-table\n",
    "q_table = np.zeros([env.observation_space.n, env.action_space.n])\n",
    "print(f'Q-table shape: {q_table.shape}')\n",
    "\n",
    "# Training parameters\n",
    "num_episodes = 10000\n",
    "\n",
    "# Training the agent\n",
    "for episode in range(num_episodes):\n",
    "    state, _ = env.reset()\n",
    "    done = False\n",
    "    \n",
    "    for _ in range(max_actions):\n",
    "        if np.random.uniform(0, 1) < epsilon:\n",
    "            action = env.action_space.sample()  # Explore\n",
    "        else:\n",
    "            action = np.argmax(q_table[state])  # Exploit\n",
    "        \n",
    "        next_state, reward, done, _, _ = env.step(action)\n",
    "        \n",
    "        # Q-learning update\n",
    "        old_value = q_table[state, action]\n",
    "        # print(f'Old value: {old_value}')\n",
    "        next_max = np.max(q_table[next_state])\n",
    "        \n",
    "        new_value = (1 - alpha) * old_value + alpha * (reward + gamma * next_max)\n",
    "        q_table[state, action] = new_value\n",
    "        # print(f'q_table[{state}, {action}]: {q_table[state, action]}')\n",
    "        \n",
    "        state = next_state\n",
    "        \n",
    "        if done:\n",
    "            break\n",
    "\n",
    "print(\"Training completed.\")\n",
    "\n",
    "# Function to evaluate the agent\n",
    "def evaluate_agent(num_episodes=100):\n",
    "    total_rewards = 0\n",
    "    for _ in range(num_episodes):\n",
    "        state, _ = env.reset()\n",
    "        done = False\n",
    "        episode_reward = 0\n",
    "        \n",
    "        for _ in range(max_actions):\n",
    "            action = np.argmax(q_table[state])\n",
    "            state, reward, done, _, _ = env.step(action)\n",
    "            episode_reward += reward\n",
    "            if done:\n",
    "                break\n",
    "        \n",
    "        total_rewards += episode_reward\n",
    "    \n",
    "    average_reward = total_rewards / num_episodes\n",
    "    return average_reward\n",
    "\n",
    "# Evaluate the trained agent\n",
    "average_reward = evaluate_agent()\n",
    "print(f\"Average reward over 100 episodes: {average_reward}\")\n",
    "\n",
    "# Visualize a single episode\n",
    "# def visualize_episode():\n",
    "#     state, _ = env.reset()\n",
    "#     done = False\n",
    "#     frames = []\n",
    "    \n",
    "#     for _ in range(max_actions):\n",
    "#         frame = env.render()\n",
    "#         frames.append(frame)\n",
    "        \n",
    "#         action = np.argmax(q_table[state])\n",
    "#         state, _, done, _, _ = env.step(action)\n",
    "        \n",
    "#         if done:\n",
    "#             break\n",
    "    \n",
    "#     imageio.mimsave('taxi_episode.gif', frames, duration=0.5)\n",
    "#     return Image(filename='taxi_episode.gif')\n",
    "\n",
    "# # Display the visualization\n",
    "# visualize_episode()\n",
    "\n"
   ]
  },
  {
   "cell_type": "code",
   "execution_count": 10,
   "metadata": {},
   "outputs": [
    {
     "ename": "NameError",
     "evalue": "name 'frames' is not defined",
     "output_type": "error",
     "traceback": [
      "\u001b[0;31m---------------------------------------------------------------------------\u001b[0m",
      "\u001b[0;31mNameError\u001b[0m                                 Traceback (most recent call last)",
      "Cell \u001b[0;32mIn[10], line 3\u001b[0m\n\u001b[1;32m      1\u001b[0m \u001b[38;5;66;03m# Once you are done, run this cell to visualize the agent's behavior through the episode\u001b[39;00m\n\u001b[1;32m      2\u001b[0m \u001b[38;5;66;03m# Save frames as a GIF\u001b[39;00m\n\u001b[0;32m----> 3\u001b[0m imageio\u001b[38;5;241m.\u001b[39mmimsave(\u001b[38;5;124m'\u001b[39m\u001b[38;5;124mtaxi_agent_behavior.gif\u001b[39m\u001b[38;5;124m'\u001b[39m, \u001b[43mframes\u001b[49m, fps\u001b[38;5;241m=\u001b[39m\u001b[38;5;241m5\u001b[39m)\n\u001b[1;32m      5\u001b[0m \u001b[38;5;66;03m# Display GIF\u001b[39;00m\n\u001b[1;32m      6\u001b[0m gif_path \u001b[38;5;241m=\u001b[39m \u001b[38;5;124m\"\u001b[39m\u001b[38;5;124mtaxi_agent_behavior.gif\u001b[39m\u001b[38;5;124m\"\u001b[39m \n",
      "\u001b[0;31mNameError\u001b[0m: name 'frames' is not defined"
     ]
    }
   ],
   "source": [
    "# Once you are done, run this cell to visualize the agent's behavior through the episode\n",
    "# Save frames as a GIF\n",
    "imageio.mimsave('taxi_agent_behavior.gif', frames, fps=5)\n",
    "\n",
    "# Display GIF\n",
    "gif_path = \"taxi_agent_behavior.gif\" \n",
    "Image(gif_path) "
   ]
  }
 ],
 "metadata": {
  "kernelspec": {
   "display_name": "Python 3",
   "language": "python",
   "name": "python3"
  },
  "language_info": {
   "codemirror_mode": {
    "name": "ipython",
    "version": 3
   },
   "file_extension": ".py",
   "mimetype": "text/x-python",
   "name": "python",
   "nbconvert_exporter": "python",
   "pygments_lexer": "ipython3",
   "version": "3.10.13"
  }
 },
 "nbformat": 4,
 "nbformat_minor": 2
}
